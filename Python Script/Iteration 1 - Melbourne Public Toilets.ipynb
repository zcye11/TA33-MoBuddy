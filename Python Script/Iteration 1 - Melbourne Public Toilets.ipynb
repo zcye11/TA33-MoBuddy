{
 "cells": [
  {
   "cell_type": "markdown",
   "metadata": {},
   "source": [
    "# Iteration 1 - Melbourne Public Toilets\n",
    "This Jupyter Notebook is about preparing 'Melbourne Public Toilets' CSV file for being used in Mo-Buddy Website Solution.\n",
    "1. Read Raw Data\n",
    "2. Clean Raw Data\n",
    "3. Export Clean Data"
   ]
  },
  {
   "cell_type": "code",
   "execution_count": 3,
   "metadata": {},
   "outputs": [],
   "source": [
    "# Import Packages\n",
    "import pandas as pd"
   ]
  },
  {
   "cell_type": "code",
   "execution_count": 4,
   "metadata": {},
   "outputs": [],
   "source": [
    "# Set option to display all columns\n",
    "pd.set_option('display.max_columns', None)"
   ]
  },
  {
   "cell_type": "markdown",
   "metadata": {},
   "source": [
    "## 1. Read in Raw Data from a CSV file"
   ]
  },
  {
   "cell_type": "code",
   "execution_count": 5,
   "metadata": {},
   "outputs": [],
   "source": [
    "# Function for reading in raw data from a CSV file\n",
    "def read_in_data(file_path):\n",
    "    \"\"\"\n",
    "    Function for reading in raw data from CSV file.\n",
    "    Inputs: \n",
    "        - file_Path, type: string, desc: CSV file path\n",
    "    Outputs:\n",
    "        - raw_data, type: dataframe, desc: Raw data\n",
    "    \"\"\"\n",
    "\n",
    "    raw_data = pd.read_csv(file_path)\n",
    "    \n",
    "    return raw_data"
   ]
  },
  {
   "cell_type": "code",
   "execution_count": 6,
   "metadata": {},
   "outputs": [],
   "source": [
    "# Read in data\n",
    "filepath_raw_data = 'DataBases\\Public_toilets.csv'\n",
    "df_raw_toilets = read_in_data(filepath_raw_data)"
   ]
  },
  {
   "cell_type": "code",
   "execution_count": 7,
   "metadata": {},
   "outputs": [
    {
     "data": {
      "text/html": [
       "<div>\n",
       "<style scoped>\n",
       "    .dataframe tbody tr th:only-of-type {\n",
       "        vertical-align: middle;\n",
       "    }\n",
       "\n",
       "    .dataframe tbody tr th {\n",
       "        vertical-align: top;\n",
       "    }\n",
       "\n",
       "    .dataframe thead th {\n",
       "        text-align: right;\n",
       "    }\n",
       "</style>\n",
       "<table border=\"1\" class=\"dataframe\">\n",
       "  <thead>\n",
       "    <tr style=\"text-align: right;\">\n",
       "      <th></th>\n",
       "      <th>name</th>\n",
       "      <th>female</th>\n",
       "      <th>male</th>\n",
       "      <th>wheelchair</th>\n",
       "      <th>operator</th>\n",
       "      <th>baby_facil</th>\n",
       "      <th>lat</th>\n",
       "      <th>lon</th>\n",
       "    </tr>\n",
       "  </thead>\n",
       "  <tbody>\n",
       "    <tr>\n",
       "      <th>0</th>\n",
       "      <td>Public Toilet - Toilet 140 - Queensberry Stree...</td>\n",
       "      <td>no</td>\n",
       "      <td>yes</td>\n",
       "      <td>no</td>\n",
       "      <td>City of Melbourne</td>\n",
       "      <td>no</td>\n",
       "      <td>-37.803995</td>\n",
       "      <td>144.959091</td>\n",
       "    </tr>\n",
       "    <tr>\n",
       "      <th>1</th>\n",
       "      <td>Public Toilet - Toilet 106 - Kings Domain Gove...</td>\n",
       "      <td>yes</td>\n",
       "      <td>yes</td>\n",
       "      <td>no</td>\n",
       "      <td>City of Melbourne</td>\n",
       "      <td>no</td>\n",
       "      <td>-37.826916</td>\n",
       "      <td>144.974648</td>\n",
       "    </tr>\n",
       "    <tr>\n",
       "      <th>2</th>\n",
       "      <td>Public Toilet - Queen Victoria Market (153 Vic...</td>\n",
       "      <td>yes</td>\n",
       "      <td>yes</td>\n",
       "      <td>no</td>\n",
       "      <td>City of Melbourne</td>\n",
       "      <td>no</td>\n",
       "      <td>-37.806121</td>\n",
       "      <td>144.956538</td>\n",
       "    </tr>\n",
       "    <tr>\n",
       "      <th>3</th>\n",
       "      <td>Public Toilet - Victoria Harbour, Shed 3 (Nort...</td>\n",
       "      <td>no</td>\n",
       "      <td>yes</td>\n",
       "      <td>no</td>\n",
       "      <td>City of Melbourne</td>\n",
       "      <td>no</td>\n",
       "      <td>-37.819796</td>\n",
       "      <td>144.937665</td>\n",
       "    </tr>\n",
       "    <tr>\n",
       "      <th>4</th>\n",
       "      <td>Public Toilet - Toilet 6 - Elizabeth Street (T...</td>\n",
       "      <td>yes</td>\n",
       "      <td>no</td>\n",
       "      <td>no</td>\n",
       "      <td>City of Melbourne</td>\n",
       "      <td>no</td>\n",
       "      <td>-37.813838</td>\n",
       "      <td>144.963097</td>\n",
       "    </tr>\n",
       "    <tr>\n",
       "      <th>...</th>\n",
       "      <td>...</td>\n",
       "      <td>...</td>\n",
       "      <td>...</td>\n",
       "      <td>...</td>\n",
       "      <td>...</td>\n",
       "      <td>...</td>\n",
       "      <td>...</td>\n",
       "      <td>...</td>\n",
       "    </tr>\n",
       "    <tr>\n",
       "      <th>69</th>\n",
       "      <td>Public Toilet - Toilet 43 - Queen Street (oppo...</td>\n",
       "      <td>yes</td>\n",
       "      <td>yes</td>\n",
       "      <td>yes</td>\n",
       "      <td>City of Melbourne</td>\n",
       "      <td>no</td>\n",
       "      <td>-37.815838</td>\n",
       "      <td>144.961062</td>\n",
       "    </tr>\n",
       "    <tr>\n",
       "      <th>70</th>\n",
       "      <td>Public Toilet - Toilet 119 - Fitzroy Gardens T...</td>\n",
       "      <td>yes</td>\n",
       "      <td>yes</td>\n",
       "      <td>yes</td>\n",
       "      <td>City of Melbourne</td>\n",
       "      <td>no</td>\n",
       "      <td>-37.812036</td>\n",
       "      <td>144.983075</td>\n",
       "    </tr>\n",
       "    <tr>\n",
       "      <th>71</th>\n",
       "      <td>Public Toilet - Toilet 110 - Queen Victoria Ga...</td>\n",
       "      <td>yes</td>\n",
       "      <td>yes</td>\n",
       "      <td>yes</td>\n",
       "      <td>City of Melbourne</td>\n",
       "      <td>no</td>\n",
       "      <td>-37.822948</td>\n",
       "      <td>144.970986</td>\n",
       "    </tr>\n",
       "    <tr>\n",
       "      <th>72</th>\n",
       "      <td>Public Toilet - Toilet 41 - Flinders Street (N...</td>\n",
       "      <td>yes</td>\n",
       "      <td>yes</td>\n",
       "      <td>yes</td>\n",
       "      <td>City of Melbourne</td>\n",
       "      <td>no</td>\n",
       "      <td>-37.817903</td>\n",
       "      <td>144.966264</td>\n",
       "    </tr>\n",
       "    <tr>\n",
       "      <th>73</th>\n",
       "      <td>Public Toilet - Toilet 136 - Ievers Reserve - ...</td>\n",
       "      <td>yes</td>\n",
       "      <td>yes</td>\n",
       "      <td>yes</td>\n",
       "      <td>City of Melbourne</td>\n",
       "      <td>no</td>\n",
       "      <td>-37.796799</td>\n",
       "      <td>144.951967</td>\n",
       "    </tr>\n",
       "  </tbody>\n",
       "</table>\n",
       "<p>74 rows × 8 columns</p>\n",
       "</div>"
      ],
      "text/plain": [
       "                                                 name female male wheelchair  \\\n",
       "0   Public Toilet - Toilet 140 - Queensberry Stree...     no  yes         no   \n",
       "1   Public Toilet - Toilet 106 - Kings Domain Gove...    yes  yes         no   \n",
       "2   Public Toilet - Queen Victoria Market (153 Vic...    yes  yes         no   \n",
       "3   Public Toilet - Victoria Harbour, Shed 3 (Nort...     no  yes         no   \n",
       "4   Public Toilet - Toilet 6 - Elizabeth Street (T...    yes   no         no   \n",
       "..                                                ...    ...  ...        ...   \n",
       "69  Public Toilet - Toilet 43 - Queen Street (oppo...    yes  yes        yes   \n",
       "70  Public Toilet - Toilet 119 - Fitzroy Gardens T...    yes  yes        yes   \n",
       "71  Public Toilet - Toilet 110 - Queen Victoria Ga...    yes  yes        yes   \n",
       "72  Public Toilet - Toilet 41 - Flinders Street (N...    yes  yes        yes   \n",
       "73  Public Toilet - Toilet 136 - Ievers Reserve - ...    yes  yes        yes   \n",
       "\n",
       "             operator baby_facil        lat         lon  \n",
       "0   City of Melbourne         no -37.803995  144.959091  \n",
       "1   City of Melbourne         no -37.826916  144.974648  \n",
       "2   City of Melbourne         no -37.806121  144.956538  \n",
       "3   City of Melbourne         no -37.819796  144.937665  \n",
       "4   City of Melbourne         no -37.813838  144.963097  \n",
       "..                ...        ...        ...         ...  \n",
       "69  City of Melbourne         no -37.815838  144.961062  \n",
       "70  City of Melbourne         no -37.812036  144.983075  \n",
       "71  City of Melbourne         no -37.822948  144.970986  \n",
       "72  City of Melbourne         no -37.817903  144.966264  \n",
       "73  City of Melbourne         no -37.796799  144.951967  \n",
       "\n",
       "[74 rows x 8 columns]"
      ]
     },
     "execution_count": 7,
     "metadata": {},
     "output_type": "execute_result"
    }
   ],
   "source": [
    "# Check how the data look like\n",
    "df_raw_toilets"
   ]
  },
  {
   "cell_type": "markdown",
   "metadata": {},
   "source": [
    "## 2. Clean up Raw Data"
   ]
  },
  {
   "cell_type": "markdown",
   "metadata": {},
   "source": [
    "Check whetere there is duplicates or strange values. Firstly, check unique values for each column."
   ]
  },
  {
   "cell_type": "code",
   "execution_count": 8,
   "metadata": {},
   "outputs": [
    {
     "data": {
      "text/plain": [
       "yes    61\n",
       "no     11\n",
       "U       1\n",
       "Name: female, dtype: int64"
      ]
     },
     "execution_count": 8,
     "metadata": {},
     "output_type": "execute_result"
    }
   ],
   "source": [
    "df_raw_toilets.loc[:,'female'].value_counts()"
   ]
  },
  {
   "cell_type": "code",
   "execution_count": 9,
   "metadata": {},
   "outputs": [
    {
     "data": {
      "text/plain": [
       "yes    68\n",
       "no      4\n",
       "U       1\n",
       "Name: male, dtype: int64"
      ]
     },
     "execution_count": 9,
     "metadata": {},
     "output_type": "execute_result"
    }
   ],
   "source": [
    "df_raw_toilets.loc[:,'male'].value_counts()"
   ]
  },
  {
   "cell_type": "code",
   "execution_count": 10,
   "metadata": {},
   "outputs": [
    {
     "data": {
      "text/plain": [
       "yes    48\n",
       "no     24\n",
       "U       1\n",
       "Name: wheelchair, dtype: int64"
      ]
     },
     "execution_count": 10,
     "metadata": {},
     "output_type": "execute_result"
    }
   ],
   "source": [
    "df_raw_toilets.loc[:,'wheelchair'].value_counts()"
   ]
  },
  {
   "cell_type": "code",
   "execution_count": 11,
   "metadata": {},
   "outputs": [
    {
     "data": {
      "text/plain": [
       "City of Melbourne    74\n",
       "Name: operator, dtype: int64"
      ]
     },
     "execution_count": 11,
     "metadata": {},
     "output_type": "execute_result"
    }
   ],
   "source": [
    "df_raw_toilets.loc[:,'operator'].value_counts()"
   ]
  },
  {
   "cell_type": "code",
   "execution_count": 12,
   "metadata": {},
   "outputs": [
    {
     "data": {
      "text/plain": [
       "no     67\n",
       "yes     5\n",
       "U       2\n",
       "Name: baby_facil, dtype: int64"
      ]
     },
     "execution_count": 12,
     "metadata": {},
     "output_type": "execute_result"
    }
   ],
   "source": [
    "df_raw_toilets.loc[:,'baby_facil'].value_counts()"
   ]
  },
  {
   "cell_type": "markdown",
   "metadata": {},
   "source": [
    "Secondly, check for missing values."
   ]
  },
  {
   "cell_type": "code",
   "execution_count": 13,
   "metadata": {},
   "outputs": [],
   "source": [
    "# Get list of column names\n",
    "columns_list = df_raw_toilets.columns"
   ]
  },
  {
   "cell_type": "code",
   "execution_count": 14,
   "metadata": {},
   "outputs": [],
   "source": [
    "# Check for missing values\n",
    "missing_index_list = []\n",
    "for column in columns_list:\n",
    "    missing_index = df_raw_toilets[df_raw_toilets[column].isnull()].index.tolist()\n",
    "    missing_index_list.append(missing_index)"
   ]
  },
  {
   "cell_type": "code",
   "execution_count": 15,
   "metadata": {},
   "outputs": [
    {
     "data": {
      "text/plain": [
       "[[], [67], [67], [67], [], [], [], []]"
      ]
     },
     "execution_count": 15,
     "metadata": {},
     "output_type": "execute_result"
    }
   ],
   "source": [
    "missing_index_list"
   ]
  },
  {
   "cell_type": "markdown",
   "metadata": {},
   "source": [
    "Row 67 seems to present missing values. LEt's check how it looks like."
   ]
  },
  {
   "cell_type": "code",
   "execution_count": 16,
   "metadata": {},
   "outputs": [
    {
     "data": {
      "text/html": [
       "<div>\n",
       "<style scoped>\n",
       "    .dataframe tbody tr th:only-of-type {\n",
       "        vertical-align: middle;\n",
       "    }\n",
       "\n",
       "    .dataframe tbody tr th {\n",
       "        vertical-align: top;\n",
       "    }\n",
       "\n",
       "    .dataframe thead th {\n",
       "        text-align: right;\n",
       "    }\n",
       "</style>\n",
       "<table border=\"1\" class=\"dataframe\">\n",
       "  <thead>\n",
       "    <tr style=\"text-align: right;\">\n",
       "      <th></th>\n",
       "      <th>name</th>\n",
       "      <th>female</th>\n",
       "      <th>male</th>\n",
       "      <th>wheelchair</th>\n",
       "      <th>operator</th>\n",
       "      <th>baby_facil</th>\n",
       "      <th>lat</th>\n",
       "      <th>lon</th>\n",
       "    </tr>\n",
       "  </thead>\n",
       "  <tbody>\n",
       "    <tr>\n",
       "      <th>67</th>\n",
       "      <td>Public Toilet - Toilet 13 - Queensberry Street...</td>\n",
       "      <td>NaN</td>\n",
       "      <td>NaN</td>\n",
       "      <td>NaN</td>\n",
       "      <td>City of Melbourne</td>\n",
       "      <td>no</td>\n",
       "      <td>-37.803094</td>\n",
       "      <td>144.949946</td>\n",
       "    </tr>\n",
       "  </tbody>\n",
       "</table>\n",
       "</div>"
      ],
      "text/plain": [
       "                                                 name female male wheelchair  \\\n",
       "67  Public Toilet - Toilet 13 - Queensberry Street...    NaN  NaN        NaN   \n",
       "\n",
       "             operator baby_facil        lat         lon  \n",
       "67  City of Melbourne         no -37.803094  144.949946  "
      ]
     },
     "execution_count": 16,
     "metadata": {},
     "output_type": "execute_result"
    }
   ],
   "source": [
    "df_raw_toilets[67:68]"
   ]
  },
  {
   "cell_type": "markdown",
   "metadata": {},
   "source": [
    "Indeed, row 67 has 'NaN' as value for 'female', 'male' and 'wheelchair' column. Due to the small dataset, the entry will remain as part of the dataset, but instead of 'NaN', the new value will be 'U'."
   ]
  },
  {
   "cell_type": "code",
   "execution_count": 17,
   "metadata": {},
   "outputs": [],
   "source": [
    "# Impute value to missing rows\n",
    "df_raw_toilets.loc[67,['female', 'male', 'wheelchair']] = 'U'"
   ]
  },
  {
   "cell_type": "code",
   "execution_count": 18,
   "metadata": {},
   "outputs": [
    {
     "data": {
      "text/html": [
       "<div>\n",
       "<style scoped>\n",
       "    .dataframe tbody tr th:only-of-type {\n",
       "        vertical-align: middle;\n",
       "    }\n",
       "\n",
       "    .dataframe tbody tr th {\n",
       "        vertical-align: top;\n",
       "    }\n",
       "\n",
       "    .dataframe thead th {\n",
       "        text-align: right;\n",
       "    }\n",
       "</style>\n",
       "<table border=\"1\" class=\"dataframe\">\n",
       "  <thead>\n",
       "    <tr style=\"text-align: right;\">\n",
       "      <th></th>\n",
       "      <th>name</th>\n",
       "      <th>female</th>\n",
       "      <th>male</th>\n",
       "      <th>wheelchair</th>\n",
       "      <th>operator</th>\n",
       "      <th>baby_facil</th>\n",
       "      <th>lat</th>\n",
       "      <th>lon</th>\n",
       "    </tr>\n",
       "  </thead>\n",
       "  <tbody>\n",
       "    <tr>\n",
       "      <th>65</th>\n",
       "      <td>Public Toilet - Toilet 55 - Royal Park (Nature...</td>\n",
       "      <td>yes</td>\n",
       "      <td>yes</td>\n",
       "      <td>yes</td>\n",
       "      <td>City of Melbourne</td>\n",
       "      <td>no</td>\n",
       "      <td>-37.795523</td>\n",
       "      <td>144.952143</td>\n",
       "    </tr>\n",
       "    <tr>\n",
       "      <th>66</th>\n",
       "      <td>Public Toilet - Toilet 112 - Alexandra Gardens...</td>\n",
       "      <td>yes</td>\n",
       "      <td>yes</td>\n",
       "      <td>yes</td>\n",
       "      <td>City of Melbourne</td>\n",
       "      <td>no</td>\n",
       "      <td>-37.820355</td>\n",
       "      <td>144.973313</td>\n",
       "    </tr>\n",
       "    <tr>\n",
       "      <th>67</th>\n",
       "      <td>Public Toilet - Toilet 13 - Queensberry Street...</td>\n",
       "      <td>U</td>\n",
       "      <td>U</td>\n",
       "      <td>U</td>\n",
       "      <td>City of Melbourne</td>\n",
       "      <td>no</td>\n",
       "      <td>-37.803094</td>\n",
       "      <td>144.949946</td>\n",
       "    </tr>\n",
       "    <tr>\n",
       "      <th>68</th>\n",
       "      <td>Public Toilet - Toilet 179 - Lincoln Square (1...</td>\n",
       "      <td>yes</td>\n",
       "      <td>yes</td>\n",
       "      <td>yes</td>\n",
       "      <td>City of Melbourne</td>\n",
       "      <td>no</td>\n",
       "      <td>-37.802712</td>\n",
       "      <td>144.962268</td>\n",
       "    </tr>\n",
       "    <tr>\n",
       "      <th>69</th>\n",
       "      <td>Public Toilet - Toilet 43 - Queen Street (oppo...</td>\n",
       "      <td>yes</td>\n",
       "      <td>yes</td>\n",
       "      <td>yes</td>\n",
       "      <td>City of Melbourne</td>\n",
       "      <td>no</td>\n",
       "      <td>-37.815838</td>\n",
       "      <td>144.961062</td>\n",
       "    </tr>\n",
       "  </tbody>\n",
       "</table>\n",
       "</div>"
      ],
      "text/plain": [
       "                                                 name female male wheelchair  \\\n",
       "65  Public Toilet - Toilet 55 - Royal Park (Nature...    yes  yes        yes   \n",
       "66  Public Toilet - Toilet 112 - Alexandra Gardens...    yes  yes        yes   \n",
       "67  Public Toilet - Toilet 13 - Queensberry Street...      U    U          U   \n",
       "68  Public Toilet - Toilet 179 - Lincoln Square (1...    yes  yes        yes   \n",
       "69  Public Toilet - Toilet 43 - Queen Street (oppo...    yes  yes        yes   \n",
       "\n",
       "             operator baby_facil        lat         lon  \n",
       "65  City of Melbourne         no -37.795523  144.952143  \n",
       "66  City of Melbourne         no -37.820355  144.973313  \n",
       "67  City of Melbourne         no -37.803094  144.949946  \n",
       "68  City of Melbourne         no -37.802712  144.962268  \n",
       "69  City of Melbourne         no -37.815838  144.961062  "
      ]
     },
     "execution_count": 18,
     "metadata": {},
     "output_type": "execute_result"
    }
   ],
   "source": [
    "# Check if imputation is ok\n",
    "df_raw_toilets.iloc[65:70,:]"
   ]
  },
  {
   "cell_type": "markdown",
   "metadata": {},
   "source": [
    "## 3. Export Clean Data to a CSV file"
   ]
  },
  {
   "cell_type": "code",
   "execution_count": 19,
   "metadata": {},
   "outputs": [],
   "source": [
    "df_raw_toilets.to_csv('OK_Public_Toilets_Melbourne_V1.csv')"
   ]
  },
  {
   "cell_type": "code",
   "execution_count": null,
   "metadata": {},
   "outputs": [],
   "source": []
  }
 ],
 "metadata": {
  "kernelspec": {
   "display_name": "Python 3",
   "language": "python",
   "name": "python3"
  },
  "language_info": {
   "codemirror_mode": {
    "name": "ipython",
    "version": 3
   },
   "file_extension": ".py",
   "mimetype": "text/x-python",
   "name": "python",
   "nbconvert_exporter": "python",
   "pygments_lexer": "ipython3",
   "version": "3.8.5"
  }
 },
 "nbformat": 4,
 "nbformat_minor": 4
}
