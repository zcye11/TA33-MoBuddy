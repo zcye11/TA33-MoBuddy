{
 "cells": [
  {
   "cell_type": "markdown",
   "metadata": {},
   "source": [
    "# EPIC 2 - Melbourne Places of Interest\n",
    "This Jupyter Notebook is about preparing 'Melbourne Places of Interest' CSV file for being used in Mo-Buddy Website Solution.\n",
    "1. Read Raw Data\n",
    "2. Clean Raw Data\n",
    "3. Export Clean Data"
   ]
  },
  {
   "cell_type": "code",
   "execution_count": 1,
   "metadata": {},
   "outputs": [],
   "source": [
    "# Import Packages\n",
    "import pandas as pd"
   ]
  },
  {
   "cell_type": "code",
   "execution_count": 2,
   "metadata": {},
   "outputs": [],
   "source": [
    "# Set option to display all columns\n",
    "pd.set_option('display.max_columns', None)"
   ]
  },
  {
   "cell_type": "markdown",
   "metadata": {},
   "source": [
    "## 1. Read in Raw Data from a CSV file"
   ]
  },
  {
   "cell_type": "code",
   "execution_count": 3,
   "metadata": {},
   "outputs": [],
   "source": [
    "# Function for reading in raw data from a CSV file\n",
    "def read_in_data(file_path):\n",
    "    \"\"\"\n",
    "    Function for reading in raw data from CSV file.\n",
    "    Inputs: \n",
    "        - file_Path, type: string, desc: CSV file path\n",
    "    Outputs:\n",
    "        - raw_data, type: dataframe, desc: Raw data\n",
    "    \"\"\"\n",
    "\n",
    "    raw_data = pd.read_csv(file_path)\n",
    "    \n",
    "    return raw_data"
   ]
  },
  {
   "cell_type": "code",
   "execution_count": 4,
   "metadata": {},
   "outputs": [],
   "source": [
    "# Read in data\n",
    "filepath_raw_data = 'DataBases\\Landmarks_and_places_of_interest.csv'\n",
    "df_raw_places = read_in_data(filepath_raw_data)"
   ]
  },
  {
   "cell_type": "code",
   "execution_count": 5,
   "metadata": {},
   "outputs": [
    {
     "data": {
      "text/html": [
       "<div>\n",
       "<style scoped>\n",
       "    .dataframe tbody tr th:only-of-type {\n",
       "        vertical-align: middle;\n",
       "    }\n",
       "\n",
       "    .dataframe tbody tr th {\n",
       "        vertical-align: top;\n",
       "    }\n",
       "\n",
       "    .dataframe thead th {\n",
       "        text-align: right;\n",
       "    }\n",
       "</style>\n",
       "<table border=\"1\" class=\"dataframe\">\n",
       "  <thead>\n",
       "    <tr style=\"text-align: right;\">\n",
       "      <th></th>\n",
       "      <th>Theme</th>\n",
       "      <th>Sub Theme</th>\n",
       "      <th>Feature Name</th>\n",
       "      <th>Co-ordinates</th>\n",
       "    </tr>\n",
       "  </thead>\n",
       "  <tbody>\n",
       "    <tr>\n",
       "      <th>0</th>\n",
       "      <td>Transport</td>\n",
       "      <td>Railway Station</td>\n",
       "      <td>Flemington Bridge Railway Station</td>\n",
       "      <td>(-37.7881645889621, 144.939277838304)</td>\n",
       "    </tr>\n",
       "    <tr>\n",
       "      <th>1</th>\n",
       "      <td>Mixed Use</td>\n",
       "      <td>Retail/Office/Carpark</td>\n",
       "      <td>Council House 2 (CH2)</td>\n",
       "      <td>(-37.8142591432011, 144.966638432727)</td>\n",
       "    </tr>\n",
       "    <tr>\n",
       "      <th>2</th>\n",
       "      <td>Place Of Assembly</td>\n",
       "      <td>Library</td>\n",
       "      <td>The Melbourne Athenaeum Library</td>\n",
       "      <td>(-37.8148855756416, 144.967291289941)</td>\n",
       "    </tr>\n",
       "    <tr>\n",
       "      <th>3</th>\n",
       "      <td>Leisure/Recreation</td>\n",
       "      <td>Informal Outdoor Facility (Park/Garden/Reserve)</td>\n",
       "      <td>Carlton Gardens South</td>\n",
       "      <td>(-37.8060684577258, 144.971266479841)</td>\n",
       "    </tr>\n",
       "    <tr>\n",
       "      <th>4</th>\n",
       "      <td>Place of Worship</td>\n",
       "      <td>Church</td>\n",
       "      <td>St Francis Church</td>\n",
       "      <td>(-37.8118847831837, 144.962422614541)</td>\n",
       "    </tr>\n",
       "  </tbody>\n",
       "</table>\n",
       "</div>"
      ],
      "text/plain": [
       "                Theme                                        Sub Theme  \\\n",
       "0           Transport                                  Railway Station   \n",
       "1           Mixed Use                            Retail/Office/Carpark   \n",
       "2   Place Of Assembly                                          Library   \n",
       "3  Leisure/Recreation  Informal Outdoor Facility (Park/Garden/Reserve)   \n",
       "4    Place of Worship                                           Church   \n",
       "\n",
       "                        Feature Name                           Co-ordinates  \n",
       "0  Flemington Bridge Railway Station  (-37.7881645889621, 144.939277838304)  \n",
       "1              Council House 2 (CH2)  (-37.8142591432011, 144.966638432727)  \n",
       "2    The Melbourne Athenaeum Library  (-37.8148855756416, 144.967291289941)  \n",
       "3              Carlton Gardens South  (-37.8060684577258, 144.971266479841)  \n",
       "4                  St Francis Church  (-37.8118847831837, 144.962422614541)  "
      ]
     },
     "execution_count": 5,
     "metadata": {},
     "output_type": "execute_result"
    }
   ],
   "source": [
    "df_raw_places.head()"
   ]
  },
  {
   "cell_type": "markdown",
   "metadata": {},
   "source": [
    "## 2. Clean up Raw Data"
   ]
  },
  {
   "cell_type": "code",
   "execution_count": 6,
   "metadata": {},
   "outputs": [],
   "source": [
    "# Create a copy\n",
    "df_places = df_raw_places.copy()"
   ]
  },
  {
   "cell_type": "code",
   "execution_count": 7,
   "metadata": {},
   "outputs": [
    {
     "data": {
      "text/plain": [
       "Theme           0\n",
       "Sub Theme       0\n",
       "Feature Name    0\n",
       "Co-ordinates    0\n",
       "dtype: int64"
      ]
     },
     "execution_count": 7,
     "metadata": {},
     "output_type": "execute_result"
    }
   ],
   "source": [
    "# Check for missing data\n",
    "df_places.isnull().sum()"
   ]
  },
  {
   "cell_type": "code",
   "execution_count": 8,
   "metadata": {
    "scrolled": true
   },
   "outputs": [
    {
     "data": {
      "text/plain": [
       "Leisure/Recreation                      63\n",
       "Place Of Assembly                       40\n",
       "Place of Worship                        31\n",
       "Transport                               26\n",
       "Community Use                           21\n",
       "Education Centre                        13\n",
       "Mixed Use                               11\n",
       "Office                                  11\n",
       "Health Services                         11\n",
       "Purpose Built                            4\n",
       "Retail                                   3\n",
       "Vacant Land                              3\n",
       "Residential Accommodation                2\n",
       "Industrial                               1\n",
       "Specialist Residential Accommodation     1\n",
       "Warehouse/Store                          1\n",
       "Name: Theme, dtype: int64"
      ]
     },
     "execution_count": 8,
     "metadata": {},
     "output_type": "execute_result"
    }
   ],
   "source": [
    "# Check values for 'Theme'\n",
    "df_places['Theme'].value_counts()"
   ]
  },
  {
   "cell_type": "code",
   "execution_count": 9,
   "metadata": {
    "scrolled": true
   },
   "outputs": [
    {
     "data": {
      "text/plain": [
       "Informal Outdoor Facility (Park/Garden/Reserve)    37\n",
       "Church                                             30\n",
       "Railway Station                                    23\n",
       "Art Gallery/Museum                                 19\n",
       "Theatre Live                                       15\n",
       "Major Sports & Recreation Facility                 14\n",
       "Public Buildings                                   13\n",
       "Office                                             11\n",
       "Public Hospital                                     7\n",
       "Retail/Office/Carpark                               5\n",
       "Outdoor Recreation Facility (Zoo, Golf Course)      4\n",
       "Tertiary (University)                               4\n",
       "Function/Conference/Exhibition Centre               4\n",
       "Primary Schools                                     4\n",
       "Police Station                                      3\n",
       "Private Hospital                                    3\n",
       "Indoor Recreation Facility                          3\n",
       "Retail/Office                                       3\n",
       "Retail/Office/Residential/Carpark                   2\n",
       "Department Store                                    2\n",
       "Dwelling (House)                                    2\n",
       "Secondary Schools                                   2\n",
       "Observation Tower/Wheel                             2\n",
       "Private Sports Club/Facility                        2\n",
       "School - Primary and Secondary Education            2\n",
       "Visitor Centre                                      2\n",
       "Film & RV Studio                                    2\n",
       "Transport Terminal                                  1\n",
       "Current Construction Site - Commercial              1\n",
       "Library                                             1\n",
       "Further Education                                   1\n",
       "Fire Station                                        1\n",
       "Store Yard                                          1\n",
       "Industrial (Manufacturing)                          1\n",
       "Cemetery                                            1\n",
       "Cinema                                              1\n",
       "Synagogue                                           1\n",
       "Government Building                                 1\n",
       "Retail                                              1\n",
       "Casino                                              1\n",
       "Retail/Residential                                  1\n",
       "Aquarium                                            1\n",
       "Bridge                                              1\n",
       "Vacant Land - Undeveloped Site                      1\n",
       "Medical Services                                    1\n",
       "Gymnasium/Health Club                               1\n",
       "Hostel                                              1\n",
       "Marina                                              1\n",
       "Current Construction Site                           1\n",
       "Name: Sub Theme, dtype: int64"
      ]
     },
     "execution_count": 9,
     "metadata": {},
     "output_type": "execute_result"
    }
   ],
   "source": [
    "# Check vlaues for 'Theme'\n",
    "df_places['Sub Theme'].value_counts()"
   ]
  },
  {
   "cell_type": "code",
   "execution_count": 10,
   "metadata": {},
   "outputs": [],
   "source": [
    "# split 'Co-ordinates' -> 'latitude' 'longitude'\n",
    "long_lati = df_places['Co-ordinates'].str.extract(r'\\((.*)\\)')[0].str.split(',')\n",
    "df_places.insert(3, 'latitude', long_lati.str[0])\n",
    "df_places.insert(4, 'longitude', long_lati.str[1])"
   ]
  },
  {
   "cell_type": "code",
   "execution_count": 11,
   "metadata": {
    "scrolled": false
   },
   "outputs": [
    {
     "data": {
      "text/html": [
       "<div>\n",
       "<style scoped>\n",
       "    .dataframe tbody tr th:only-of-type {\n",
       "        vertical-align: middle;\n",
       "    }\n",
       "\n",
       "    .dataframe tbody tr th {\n",
       "        vertical-align: top;\n",
       "    }\n",
       "\n",
       "    .dataframe thead th {\n",
       "        text-align: right;\n",
       "    }\n",
       "</style>\n",
       "<table border=\"1\" class=\"dataframe\">\n",
       "  <thead>\n",
       "    <tr style=\"text-align: right;\">\n",
       "      <th></th>\n",
       "      <th>Theme</th>\n",
       "      <th>Sub Theme</th>\n",
       "      <th>Feature Name</th>\n",
       "      <th>latitude</th>\n",
       "      <th>longitude</th>\n",
       "      <th>Co-ordinates</th>\n",
       "    </tr>\n",
       "  </thead>\n",
       "  <tbody>\n",
       "    <tr>\n",
       "      <th>0</th>\n",
       "      <td>Transport</td>\n",
       "      <td>Railway Station</td>\n",
       "      <td>Flemington Bridge Railway Station</td>\n",
       "      <td>-37.7881645889621</td>\n",
       "      <td>144.939277838304</td>\n",
       "      <td>(-37.7881645889621, 144.939277838304)</td>\n",
       "    </tr>\n",
       "    <tr>\n",
       "      <th>1</th>\n",
       "      <td>Mixed Use</td>\n",
       "      <td>Retail/Office/Carpark</td>\n",
       "      <td>Council House 2 (CH2)</td>\n",
       "      <td>-37.8142591432011</td>\n",
       "      <td>144.966638432727</td>\n",
       "      <td>(-37.8142591432011, 144.966638432727)</td>\n",
       "    </tr>\n",
       "    <tr>\n",
       "      <th>2</th>\n",
       "      <td>Place Of Assembly</td>\n",
       "      <td>Library</td>\n",
       "      <td>The Melbourne Athenaeum Library</td>\n",
       "      <td>-37.8148855756416</td>\n",
       "      <td>144.967291289941</td>\n",
       "      <td>(-37.8148855756416, 144.967291289941)</td>\n",
       "    </tr>\n",
       "    <tr>\n",
       "      <th>3</th>\n",
       "      <td>Leisure/Recreation</td>\n",
       "      <td>Informal Outdoor Facility (Park/Garden/Reserve)</td>\n",
       "      <td>Carlton Gardens South</td>\n",
       "      <td>-37.8060684577258</td>\n",
       "      <td>144.971266479841</td>\n",
       "      <td>(-37.8060684577258, 144.971266479841)</td>\n",
       "    </tr>\n",
       "    <tr>\n",
       "      <th>4</th>\n",
       "      <td>Place of Worship</td>\n",
       "      <td>Church</td>\n",
       "      <td>St Francis Church</td>\n",
       "      <td>-37.8118847831837</td>\n",
       "      <td>144.962422614541</td>\n",
       "      <td>(-37.8118847831837, 144.962422614541)</td>\n",
       "    </tr>\n",
       "  </tbody>\n",
       "</table>\n",
       "</div>"
      ],
      "text/plain": [
       "                Theme                                        Sub Theme  \\\n",
       "0           Transport                                  Railway Station   \n",
       "1           Mixed Use                            Retail/Office/Carpark   \n",
       "2   Place Of Assembly                                          Library   \n",
       "3  Leisure/Recreation  Informal Outdoor Facility (Park/Garden/Reserve)   \n",
       "4    Place of Worship                                           Church   \n",
       "\n",
       "                        Feature Name           latitude          longitude  \\\n",
       "0  Flemington Bridge Railway Station  -37.7881645889621   144.939277838304   \n",
       "1              Council House 2 (CH2)  -37.8142591432011   144.966638432727   \n",
       "2    The Melbourne Athenaeum Library  -37.8148855756416   144.967291289941   \n",
       "3              Carlton Gardens South  -37.8060684577258   144.971266479841   \n",
       "4                  St Francis Church  -37.8118847831837   144.962422614541   \n",
       "\n",
       "                            Co-ordinates  \n",
       "0  (-37.7881645889621, 144.939277838304)  \n",
       "1  (-37.8142591432011, 144.966638432727)  \n",
       "2  (-37.8148855756416, 144.967291289941)  \n",
       "3  (-37.8060684577258, 144.971266479841)  \n",
       "4  (-37.8118847831837, 144.962422614541)  "
      ]
     },
     "execution_count": 11,
     "metadata": {},
     "output_type": "execute_result"
    }
   ],
   "source": [
    "# Check whether the dataframe is as expected\n",
    "df_places.head()"
   ]
  },
  {
   "cell_type": "code",
   "execution_count": 12,
   "metadata": {},
   "outputs": [],
   "source": [
    "# Get usefull coluns\n",
    "usefull_columns = [0, 1, 2, 3, 4]\n",
    "df_places = df_places.iloc[:, usefull_columns].copy()"
   ]
  },
  {
   "cell_type": "code",
   "execution_count": 13,
   "metadata": {},
   "outputs": [
    {
     "data": {
      "text/html": [
       "<div>\n",
       "<style scoped>\n",
       "    .dataframe tbody tr th:only-of-type {\n",
       "        vertical-align: middle;\n",
       "    }\n",
       "\n",
       "    .dataframe tbody tr th {\n",
       "        vertical-align: top;\n",
       "    }\n",
       "\n",
       "    .dataframe thead th {\n",
       "        text-align: right;\n",
       "    }\n",
       "</style>\n",
       "<table border=\"1\" class=\"dataframe\">\n",
       "  <thead>\n",
       "    <tr style=\"text-align: right;\">\n",
       "      <th></th>\n",
       "      <th>Theme</th>\n",
       "      <th>Sub Theme</th>\n",
       "      <th>Feature Name</th>\n",
       "      <th>latitude</th>\n",
       "      <th>longitude</th>\n",
       "    </tr>\n",
       "  </thead>\n",
       "  <tbody>\n",
       "    <tr>\n",
       "      <th>0</th>\n",
       "      <td>Transport</td>\n",
       "      <td>Railway Station</td>\n",
       "      <td>Flemington Bridge Railway Station</td>\n",
       "      <td>-37.7881645889621</td>\n",
       "      <td>144.939277838304</td>\n",
       "    </tr>\n",
       "    <tr>\n",
       "      <th>1</th>\n",
       "      <td>Mixed Use</td>\n",
       "      <td>Retail/Office/Carpark</td>\n",
       "      <td>Council House 2 (CH2)</td>\n",
       "      <td>-37.8142591432011</td>\n",
       "      <td>144.966638432727</td>\n",
       "    </tr>\n",
       "    <tr>\n",
       "      <th>2</th>\n",
       "      <td>Place Of Assembly</td>\n",
       "      <td>Library</td>\n",
       "      <td>The Melbourne Athenaeum Library</td>\n",
       "      <td>-37.8148855756416</td>\n",
       "      <td>144.967291289941</td>\n",
       "    </tr>\n",
       "    <tr>\n",
       "      <th>3</th>\n",
       "      <td>Leisure/Recreation</td>\n",
       "      <td>Informal Outdoor Facility (Park/Garden/Reserve)</td>\n",
       "      <td>Carlton Gardens South</td>\n",
       "      <td>-37.8060684577258</td>\n",
       "      <td>144.971266479841</td>\n",
       "    </tr>\n",
       "    <tr>\n",
       "      <th>4</th>\n",
       "      <td>Place of Worship</td>\n",
       "      <td>Church</td>\n",
       "      <td>St Francis Church</td>\n",
       "      <td>-37.8118847831837</td>\n",
       "      <td>144.962422614541</td>\n",
       "    </tr>\n",
       "  </tbody>\n",
       "</table>\n",
       "</div>"
      ],
      "text/plain": [
       "                Theme                                        Sub Theme  \\\n",
       "0           Transport                                  Railway Station   \n",
       "1           Mixed Use                            Retail/Office/Carpark   \n",
       "2   Place Of Assembly                                          Library   \n",
       "3  Leisure/Recreation  Informal Outdoor Facility (Park/Garden/Reserve)   \n",
       "4    Place of Worship                                           Church   \n",
       "\n",
       "                        Feature Name           latitude          longitude  \n",
       "0  Flemington Bridge Railway Station  -37.7881645889621   144.939277838304  \n",
       "1              Council House 2 (CH2)  -37.8142591432011   144.966638432727  \n",
       "2    The Melbourne Athenaeum Library  -37.8148855756416   144.967291289941  \n",
       "3              Carlton Gardens South  -37.8060684577258   144.971266479841  \n",
       "4                  St Francis Church  -37.8118847831837   144.962422614541  "
      ]
     },
     "execution_count": 13,
     "metadata": {},
     "output_type": "execute_result"
    }
   ],
   "source": [
    "# Check whether the dataframe is as expected\n",
    "df_places.head()"
   ]
  },
  {
   "cell_type": "code",
   "execution_count": 14,
   "metadata": {},
   "outputs": [],
   "source": [
    "# Rename columns accordingly with format\n",
    "df_places.rename(columns={'Theme':'theme', 'Sub Theme':'subTheme', \n",
    "                          'Feature Name':'name'}, inplace=True)"
   ]
  },
  {
   "cell_type": "code",
   "execution_count": 15,
   "metadata": {
    "scrolled": false
   },
   "outputs": [
    {
     "data": {
      "text/html": [
       "<div>\n",
       "<style scoped>\n",
       "    .dataframe tbody tr th:only-of-type {\n",
       "        vertical-align: middle;\n",
       "    }\n",
       "\n",
       "    .dataframe tbody tr th {\n",
       "        vertical-align: top;\n",
       "    }\n",
       "\n",
       "    .dataframe thead th {\n",
       "        text-align: right;\n",
       "    }\n",
       "</style>\n",
       "<table border=\"1\" class=\"dataframe\">\n",
       "  <thead>\n",
       "    <tr style=\"text-align: right;\">\n",
       "      <th></th>\n",
       "      <th>theme</th>\n",
       "      <th>subTheme</th>\n",
       "      <th>name</th>\n",
       "      <th>latitude</th>\n",
       "      <th>longitude</th>\n",
       "    </tr>\n",
       "  </thead>\n",
       "  <tbody>\n",
       "    <tr>\n",
       "      <th>0</th>\n",
       "      <td>Transport</td>\n",
       "      <td>Railway Station</td>\n",
       "      <td>Flemington Bridge Railway Station</td>\n",
       "      <td>-37.7881645889621</td>\n",
       "      <td>144.939277838304</td>\n",
       "    </tr>\n",
       "    <tr>\n",
       "      <th>1</th>\n",
       "      <td>Mixed Use</td>\n",
       "      <td>Retail/Office/Carpark</td>\n",
       "      <td>Council House 2 (CH2)</td>\n",
       "      <td>-37.8142591432011</td>\n",
       "      <td>144.966638432727</td>\n",
       "    </tr>\n",
       "    <tr>\n",
       "      <th>2</th>\n",
       "      <td>Place Of Assembly</td>\n",
       "      <td>Library</td>\n",
       "      <td>The Melbourne Athenaeum Library</td>\n",
       "      <td>-37.8148855756416</td>\n",
       "      <td>144.967291289941</td>\n",
       "    </tr>\n",
       "    <tr>\n",
       "      <th>3</th>\n",
       "      <td>Leisure/Recreation</td>\n",
       "      <td>Informal Outdoor Facility (Park/Garden/Reserve)</td>\n",
       "      <td>Carlton Gardens South</td>\n",
       "      <td>-37.8060684577258</td>\n",
       "      <td>144.971266479841</td>\n",
       "    </tr>\n",
       "    <tr>\n",
       "      <th>4</th>\n",
       "      <td>Place of Worship</td>\n",
       "      <td>Church</td>\n",
       "      <td>St Francis Church</td>\n",
       "      <td>-37.8118847831837</td>\n",
       "      <td>144.962422614541</td>\n",
       "    </tr>\n",
       "  </tbody>\n",
       "</table>\n",
       "</div>"
      ],
      "text/plain": [
       "                theme                                         subTheme  \\\n",
       "0           Transport                                  Railway Station   \n",
       "1           Mixed Use                            Retail/Office/Carpark   \n",
       "2   Place Of Assembly                                          Library   \n",
       "3  Leisure/Recreation  Informal Outdoor Facility (Park/Garden/Reserve)   \n",
       "4    Place of Worship                                           Church   \n",
       "\n",
       "                                name           latitude          longitude  \n",
       "0  Flemington Bridge Railway Station  -37.7881645889621   144.939277838304  \n",
       "1              Council House 2 (CH2)  -37.8142591432011   144.966638432727  \n",
       "2    The Melbourne Athenaeum Library  -37.8148855756416   144.967291289941  \n",
       "3              Carlton Gardens South  -37.8060684577258   144.971266479841  \n",
       "4                  St Francis Church  -37.8118847831837   144.962422614541  "
      ]
     },
     "execution_count": 15,
     "metadata": {},
     "output_type": "execute_result"
    }
   ],
   "source": [
    "# Check whether the dataframe is as expected\n",
    "df_places.head()"
   ]
  },
  {
   "cell_type": "code",
   "execution_count": 17,
   "metadata": {},
   "outputs": [],
   "source": [
    "# Include places id (created)\n",
    "df_places.insert(0, 'id', 'PLAC-')\n",
    "df_places.insert(1, 'id_', range(1,len(df_places)+1))"
   ]
  },
  {
   "cell_type": "code",
   "execution_count": 18,
   "metadata": {},
   "outputs": [],
   "source": [
    "# Include places id (created)\n",
    "df_places = df_places.astype({'id_':str})\n",
    "df_places['id'] = df_places['id'] + df_places['id_']"
   ]
  },
  {
   "cell_type": "code",
   "execution_count": 19,
   "metadata": {},
   "outputs": [
    {
     "data": {
      "text/html": [
       "<div>\n",
       "<style scoped>\n",
       "    .dataframe tbody tr th:only-of-type {\n",
       "        vertical-align: middle;\n",
       "    }\n",
       "\n",
       "    .dataframe tbody tr th {\n",
       "        vertical-align: top;\n",
       "    }\n",
       "\n",
       "    .dataframe thead th {\n",
       "        text-align: right;\n",
       "    }\n",
       "</style>\n",
       "<table border=\"1\" class=\"dataframe\">\n",
       "  <thead>\n",
       "    <tr style=\"text-align: right;\">\n",
       "      <th></th>\n",
       "      <th>id</th>\n",
       "      <th>id_</th>\n",
       "      <th>theme</th>\n",
       "      <th>subTheme</th>\n",
       "      <th>name</th>\n",
       "      <th>latitude</th>\n",
       "      <th>longitude</th>\n",
       "    </tr>\n",
       "  </thead>\n",
       "  <tbody>\n",
       "    <tr>\n",
       "      <th>0</th>\n",
       "      <td>PLAC-1</td>\n",
       "      <td>1</td>\n",
       "      <td>Transport</td>\n",
       "      <td>Railway Station</td>\n",
       "      <td>Flemington Bridge Railway Station</td>\n",
       "      <td>-37.7881645889621</td>\n",
       "      <td>144.939277838304</td>\n",
       "    </tr>\n",
       "    <tr>\n",
       "      <th>1</th>\n",
       "      <td>PLAC-2</td>\n",
       "      <td>2</td>\n",
       "      <td>Mixed Use</td>\n",
       "      <td>Retail/Office/Carpark</td>\n",
       "      <td>Council House 2 (CH2)</td>\n",
       "      <td>-37.8142591432011</td>\n",
       "      <td>144.966638432727</td>\n",
       "    </tr>\n",
       "    <tr>\n",
       "      <th>2</th>\n",
       "      <td>PLAC-3</td>\n",
       "      <td>3</td>\n",
       "      <td>Place Of Assembly</td>\n",
       "      <td>Library</td>\n",
       "      <td>The Melbourne Athenaeum Library</td>\n",
       "      <td>-37.8148855756416</td>\n",
       "      <td>144.967291289941</td>\n",
       "    </tr>\n",
       "    <tr>\n",
       "      <th>3</th>\n",
       "      <td>PLAC-4</td>\n",
       "      <td>4</td>\n",
       "      <td>Leisure/Recreation</td>\n",
       "      <td>Informal Outdoor Facility (Park/Garden/Reserve)</td>\n",
       "      <td>Carlton Gardens South</td>\n",
       "      <td>-37.8060684577258</td>\n",
       "      <td>144.971266479841</td>\n",
       "    </tr>\n",
       "    <tr>\n",
       "      <th>4</th>\n",
       "      <td>PLAC-5</td>\n",
       "      <td>5</td>\n",
       "      <td>Place of Worship</td>\n",
       "      <td>Church</td>\n",
       "      <td>St Francis Church</td>\n",
       "      <td>-37.8118847831837</td>\n",
       "      <td>144.962422614541</td>\n",
       "    </tr>\n",
       "  </tbody>\n",
       "</table>\n",
       "</div>"
      ],
      "text/plain": [
       "       id id_               theme  \\\n",
       "0  PLAC-1   1           Transport   \n",
       "1  PLAC-2   2           Mixed Use   \n",
       "2  PLAC-3   3   Place Of Assembly   \n",
       "3  PLAC-4   4  Leisure/Recreation   \n",
       "4  PLAC-5   5    Place of Worship   \n",
       "\n",
       "                                          subTheme  \\\n",
       "0                                  Railway Station   \n",
       "1                            Retail/Office/Carpark   \n",
       "2                                          Library   \n",
       "3  Informal Outdoor Facility (Park/Garden/Reserve)   \n",
       "4                                           Church   \n",
       "\n",
       "                                name           latitude          longitude  \n",
       "0  Flemington Bridge Railway Station  -37.7881645889621   144.939277838304  \n",
       "1              Council House 2 (CH2)  -37.8142591432011   144.966638432727  \n",
       "2    The Melbourne Athenaeum Library  -37.8148855756416   144.967291289941  \n",
       "3              Carlton Gardens South  -37.8060684577258   144.971266479841  \n",
       "4                  St Francis Church  -37.8118847831837   144.962422614541  "
      ]
     },
     "execution_count": 19,
     "metadata": {},
     "output_type": "execute_result"
    }
   ],
   "source": [
    "# Check whether the dataframe is as expected\n",
    "df_places.head()"
   ]
  },
  {
   "cell_type": "code",
   "execution_count": 20,
   "metadata": {},
   "outputs": [],
   "source": [
    "# Selet only usefull columns\n",
    "useful_column = ['id', 'theme', 'subTheme', 'name', 'latitude', 'longitude']\n",
    "df_places = df_places.loc[:,useful_column]"
   ]
  },
  {
   "cell_type": "code",
   "execution_count": 21,
   "metadata": {},
   "outputs": [
    {
     "data": {
      "text/html": [
       "<div>\n",
       "<style scoped>\n",
       "    .dataframe tbody tr th:only-of-type {\n",
       "        vertical-align: middle;\n",
       "    }\n",
       "\n",
       "    .dataframe tbody tr th {\n",
       "        vertical-align: top;\n",
       "    }\n",
       "\n",
       "    .dataframe thead th {\n",
       "        text-align: right;\n",
       "    }\n",
       "</style>\n",
       "<table border=\"1\" class=\"dataframe\">\n",
       "  <thead>\n",
       "    <tr style=\"text-align: right;\">\n",
       "      <th></th>\n",
       "      <th>id</th>\n",
       "      <th>theme</th>\n",
       "      <th>subTheme</th>\n",
       "      <th>name</th>\n",
       "      <th>latitude</th>\n",
       "      <th>longitude</th>\n",
       "    </tr>\n",
       "  </thead>\n",
       "  <tbody>\n",
       "    <tr>\n",
       "      <th>0</th>\n",
       "      <td>PLAC-1</td>\n",
       "      <td>Transport</td>\n",
       "      <td>Railway Station</td>\n",
       "      <td>Flemington Bridge Railway Station</td>\n",
       "      <td>-37.7881645889621</td>\n",
       "      <td>144.939277838304</td>\n",
       "    </tr>\n",
       "    <tr>\n",
       "      <th>1</th>\n",
       "      <td>PLAC-2</td>\n",
       "      <td>Mixed Use</td>\n",
       "      <td>Retail/Office/Carpark</td>\n",
       "      <td>Council House 2 (CH2)</td>\n",
       "      <td>-37.8142591432011</td>\n",
       "      <td>144.966638432727</td>\n",
       "    </tr>\n",
       "    <tr>\n",
       "      <th>2</th>\n",
       "      <td>PLAC-3</td>\n",
       "      <td>Place Of Assembly</td>\n",
       "      <td>Library</td>\n",
       "      <td>The Melbourne Athenaeum Library</td>\n",
       "      <td>-37.8148855756416</td>\n",
       "      <td>144.967291289941</td>\n",
       "    </tr>\n",
       "    <tr>\n",
       "      <th>3</th>\n",
       "      <td>PLAC-4</td>\n",
       "      <td>Leisure/Recreation</td>\n",
       "      <td>Informal Outdoor Facility (Park/Garden/Reserve)</td>\n",
       "      <td>Carlton Gardens South</td>\n",
       "      <td>-37.8060684577258</td>\n",
       "      <td>144.971266479841</td>\n",
       "    </tr>\n",
       "    <tr>\n",
       "      <th>4</th>\n",
       "      <td>PLAC-5</td>\n",
       "      <td>Place of Worship</td>\n",
       "      <td>Church</td>\n",
       "      <td>St Francis Church</td>\n",
       "      <td>-37.8118847831837</td>\n",
       "      <td>144.962422614541</td>\n",
       "    </tr>\n",
       "  </tbody>\n",
       "</table>\n",
       "</div>"
      ],
      "text/plain": [
       "       id               theme  \\\n",
       "0  PLAC-1           Transport   \n",
       "1  PLAC-2           Mixed Use   \n",
       "2  PLAC-3   Place Of Assembly   \n",
       "3  PLAC-4  Leisure/Recreation   \n",
       "4  PLAC-5    Place of Worship   \n",
       "\n",
       "                                          subTheme  \\\n",
       "0                                  Railway Station   \n",
       "1                            Retail/Office/Carpark   \n",
       "2                                          Library   \n",
       "3  Informal Outdoor Facility (Park/Garden/Reserve)   \n",
       "4                                           Church   \n",
       "\n",
       "                                name           latitude          longitude  \n",
       "0  Flemington Bridge Railway Station  -37.7881645889621   144.939277838304  \n",
       "1              Council House 2 (CH2)  -37.8142591432011   144.966638432727  \n",
       "2    The Melbourne Athenaeum Library  -37.8148855756416   144.967291289941  \n",
       "3              Carlton Gardens South  -37.8060684577258   144.971266479841  \n",
       "4                  St Francis Church  -37.8118847831837   144.962422614541  "
      ]
     },
     "execution_count": 21,
     "metadata": {},
     "output_type": "execute_result"
    }
   ],
   "source": [
    "# Check whether the dataframe is as expected\n",
    "df_places.head()"
   ]
  },
  {
   "cell_type": "markdown",
   "metadata": {},
   "source": [
    "## 3. Export Clean Data to a CSV file"
   ]
  },
  {
   "cell_type": "code",
   "execution_count": 22,
   "metadata": {},
   "outputs": [],
   "source": [
    "# Export full version\n",
    "df_places.to_csv('Output\\Places\\OK_Place_of_Interest_Melbourne_V2.csv', index=False)"
   ]
  },
  {
   "cell_type": "code",
   "execution_count": null,
   "metadata": {},
   "outputs": [],
   "source": []
  },
  {
   "cell_type": "code",
   "execution_count": null,
   "metadata": {},
   "outputs": [],
   "source": []
  }
 ],
 "metadata": {
  "kernelspec": {
   "display_name": "Python 3",
   "language": "python",
   "name": "python3"
  },
  "language_info": {
   "codemirror_mode": {
    "name": "ipython",
    "version": 3
   },
   "file_extension": ".py",
   "mimetype": "text/x-python",
   "name": "python",
   "nbconvert_exporter": "python",
   "pygments_lexer": "ipython3",
   "version": "3.8.5"
  }
 },
 "nbformat": 4,
 "nbformat_minor": 4
}
