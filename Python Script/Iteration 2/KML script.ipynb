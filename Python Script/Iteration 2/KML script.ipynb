{
 "cells": [
  {
   "cell_type": "code",
   "execution_count": 1,
   "id": "7dc9683e",
   "metadata": {},
   "outputs": [],
   "source": [
    "import pykml\n",
    "from pykml import parser\n",
    "from pykml.parser import Schema\n",
    "from os import path\n",
    "from lxml import etree\n",
    "from pykml.factory import KML_ElementMaker as KML"
   ]
  },
  {
   "cell_type": "code",
   "execution_count": 2,
   "id": "acf047c4",
   "metadata": {},
   "outputs": [],
   "source": [
    "# def getXmlWithCDATA(obj, cdata_elements):\n",
    "#     # Convert Objectify document to lxml.etree (is there a better way?)\n",
    "#     root = etree.fromstring(etree.tostring(etree.ElementTree(obj)))\n",
    "\n",
    "#     #Create an xpath expression to search for all desired cdata elements\n",
    "#     xpath = '|'.join(map(lambda tag: '//kml:' + tag, cdata_elements))\n",
    "#     results = root.xpath(xpath, namespaces = {'kml': 'http://www.opengis.net/kml/2.2'})\n",
    "\n",
    "#     for element in results:\n",
    "#         element.text = etree.CDATA(element.text)\n",
    "    \n",
    "#     return root"
   ]
  },
  {
   "cell_type": "code",
   "execution_count": 3,
   "id": "e6d2a9ad",
   "metadata": {},
   "outputs": [],
   "source": [
    "kml_file = './Taxi Ranks.kml'         "
   ]
  },
  {
   "cell_type": "code",
   "execution_count": 4,
   "id": "d0059a7a",
   "metadata": {},
   "outputs": [],
   "source": [
    "new_file = './Clean Taxi Ranks.kml'"
   ]
  },
  {
   "cell_type": "code",
   "execution_count": 5,
   "id": "e42fb689",
   "metadata": {},
   "outputs": [],
   "source": [
    "with open(kml_file) as f:\n",
    "    doc = parser.parse(f)"
   ]
  },
  {
   "cell_type": "code",
   "execution_count": 6,
   "id": "62b4ac05",
   "metadata": {},
   "outputs": [],
   "source": [
    "root = doc.getroot()"
   ]
  },
  {
   "cell_type": "code",
   "execution_count": 7,
   "id": "3d324bf6",
   "metadata": {
    "scrolled": true
   },
   "outputs": [],
   "source": [
    "for element in root.findall('.//{http://www.opengis.net/kml/2.2}description'):\n",
    "    text = element.text.split('<br>')[0] + '<br>' + element.text.split('<br>')[2]\n",
    "    element._setText(etree.CDATA(text))"
   ]
  },
  {
   "cell_type": "code",
   "execution_count": 8,
   "id": "8f7e91ec",
   "metadata": {},
   "outputs": [],
   "source": [
    "# for document in root.getchildren():\n",
    "#     for placemark in document.getchildren():\n",
    "#         if 'Placemark' in placemark.tag:\n",
    "#             for desc in placemark.getchildren():\n",
    "#                 if 'description' in desc.tag:\n",
    "#                     desc = desc.text.split('<br>')[1] + '\\n' + desc.text.split('<br>')[2]"
   ]
  },
  {
   "cell_type": "code",
   "execution_count": 9,
   "id": "dad6e4a2",
   "metadata": {},
   "outputs": [],
   "source": [
    "# text.split('<br>')[2] + '<br>' + text.split('<br>')[3]"
   ]
  },
  {
   "cell_type": "code",
   "execution_count": 10,
   "id": "de20ab0e",
   "metadata": {},
   "outputs": [],
   "source": [
    "with open(new_file, 'w') as f:\n",
    "    #f.write('<?xml version=\"1.0\" encoding=\"UTF-8\"?>')\n",
    "    #f.write('<kml xmlns=\"http://www.opengis.net/kml/2.2\">')\n",
    "    doc.write(new_file, pretty_print=True)"
   ]
  }
 ],
 "metadata": {
  "kernelspec": {
   "display_name": "Python 3",
   "language": "python",
   "name": "python3"
  },
  "language_info": {
   "codemirror_mode": {
    "name": "ipython",
    "version": 3
   },
   "file_extension": ".py",
   "mimetype": "text/x-python",
   "name": "python",
   "nbconvert_exporter": "python",
   "pygments_lexer": "ipython3",
   "version": "3.8.8"
  }
 },
 "nbformat": 4,
 "nbformat_minor": 5
}
